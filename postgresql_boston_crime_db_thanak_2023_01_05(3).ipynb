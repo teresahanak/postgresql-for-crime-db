{
 "cells": [
  {
   "cell_type": "markdown",
   "metadata": {},
   "source": [
    "# Building a Database for Boston Crime Reports:  PostgreSQL and psycopg2 Module in Python\n",
    "This project exemplifies the data engineering process in PostgreSQL to establish a relational database from csv file containing crime data in the Boston area.  The following processes are implemented:\n",
    "- Database creation\n",
    "- Schema creation\n",
    "- Table creation with proper datatypes\n",
    "- Loading data from csv file into database\n",
    "- Group and user creation with appropriate priveleges\n",
    "\n",
    "Here, data is loaded without using csv, instead of pandas, to illustrate that process."
   ]
  },
  {
   "cell_type": "markdown",
   "metadata": {},
   "source": [
    "## Importing Necessary Libraries"
   ]
  },
  {
   "cell_type": "code",
   "execution_count": 1,
   "metadata": {
    "collapsed": true
   },
   "outputs": [],
   "source": [
    "import psycopg2\n",
    "import csv\n",
    "import pandas as pd"
   ]
  },
  {
   "cell_type": "markdown",
   "metadata": {},
   "source": [
    "## Create the Database"
   ]
  },
  {
   "cell_type": "code",
   "execution_count": 2,
   "metadata": {
    "collapsed": false
   },
   "outputs": [],
   "source": [
    "conn = psycopg2.connect(dbname='dq', user='dq')\n",
    "conn.autocommit = True\n",
    "cur = conn.cursor()\n",
    "cur.execute('CREATE DATABASE crime_db;')\n",
    "conn.autocommit = False\n",
    "conn.close()"
   ]
  },
  {
   "cell_type": "markdown",
   "metadata": {},
   "source": [
    "## Create the Schema"
   ]
  },
  {
   "cell_type": "code",
   "execution_count": 3,
   "metadata": {
    "collapsed": false
   },
   "outputs": [],
   "source": [
    "conn = psycopg2.connect(dbname='crime_db', user='dq')\n",
    "cur = conn.cursor()"
   ]
  },
  {
   "cell_type": "code",
   "execution_count": 4,
   "metadata": {
    "collapsed": true
   },
   "outputs": [],
   "source": [
    "cur.execute('CREATE SCHEMA crimes;')"
   ]
  },
  {
   "cell_type": "markdown",
   "metadata": {},
   "source": [
    "## Examining the Data"
   ]
  },
  {
   "cell_type": "markdown",
   "metadata": {},
   "source": [
    "#### Checking the Header and First Row"
   ]
  },
  {
   "cell_type": "code",
   "execution_count": 5,
   "metadata": {
    "collapsed": false
   },
   "outputs": [
    {
     "name": "stdout",
     "output_type": "stream",
     "text": [
      "['incident_number', 'offense_code', 'description', 'date', 'day_of_the_week', 'lat', 'long']\n",
      "[['1', '619', 'LARCENY ALL OTHERS', '2018-09-02', 'Sunday', '42.35779134', '-71.13937053'], ['2', '1402', 'VANDALISM', '2018-08-21', 'Tuesday', '42.30682138', '-71.06030035'], ['3', '3410', 'TOWED MOTOR VEHICLE', '2018-09-03', 'Monday', '42.34658879', '-71.07242943'], ['4', '3114', 'INVESTIGATE PROPERTY', '2018-09-03', 'Monday', '42.33418175', '-71.07866441']]\n"
     ]
    }
   ],
   "source": [
    "with open('boston.csv', 'r') as f:\n",
    "    reader = list(csv.reader(f))\n",
    "    header_row = reader[0]\n",
    "    first_row = reader[1:5]\n",
    "    \n",
    "print(header_row)\n",
    "print(first_row)"
   ]
  },
  {
   "cell_type": "markdown",
   "metadata": {},
   "source": [
    "#### Observations:\n",
    "There are 7 columns as follows:\n",
    "- `incident_number`:  unique integer identifier\n",
    "- `offense_code`:  integer representing offense\n",
    "- `description`:  text/string description\n",
    "- `date`: date of crime in ISO 8601 format\n",
    "- `day_of_the_week`: weekday as string/text  \n",
    "- `latitude`: float with precision of 10 and scale of 8\n",
    "- `longitude`: float with precision of 10 and scale of 8"
   ]
  },
  {
   "cell_type": "markdown",
   "metadata": {},
   "source": [
    "#### Function to Obtain Set of Distinct Values for a Column"
   ]
  },
  {
   "cell_type": "code",
   "execution_count": 6,
   "metadata": {
    "collapsed": true
   },
   "outputs": [],
   "source": [
    "def get_col_set(csv_file, col_num, header=True):\n",
    "    \"\"\"\n",
    "    Returns set of distinct values for column of csv file\n",
    "    \n",
    "    csv_file: csv file name as string\n",
    "    col_num: integer index of column\n",
    "    header:  True or False if file has header row (default is True)\n",
    "    \"\"\"\n",
    "    with open(csv_file, 'r') as f:\n",
    "        rows = list(csv.reader(f))\n",
    "        if header:\n",
    "            rows = rows[1:]\n",
    "        return {row[col_num] for row in rows}"
   ]
  },
  {
   "cell_type": "markdown",
   "metadata": {},
   "source": [
    "#### Function to Obtain the Number of Unique Values in Dataset Columns"
   ]
  },
  {
   "cell_type": "code",
   "execution_count": 7,
   "metadata": {
    "collapsed": true
   },
   "outputs": [],
   "source": [
    "def get_num_unique(csv_file, header=True):\n",
    "    '''\n",
    "    Applies get_col_set function to all columns of csv file\n",
    "    and returns dataframe of number of unique values in each column\n",
    "    \n",
    "    csv_file: csv file name as string\n",
    "    header:  True or False if file has header row (default is True)\n",
    "    '''\n",
    "    num_unique = pd.DataFrame(columns=['num_unique'], index = header_row)    \n",
    "    for i, value in enumerate(header_row):\n",
    "        num_unique.loc[value, 'num_unique'] = len(get_col_set('boston.csv', i, header=header))\n",
    "    return num_unique.reset_index().rename(columns={'index': 'column'})"
   ]
  },
  {
   "cell_type": "markdown",
   "metadata": {},
   "source": [
    "#### Function to Obtain the Longest Value in Each Column"
   ]
  },
  {
   "cell_type": "code",
   "execution_count": 8,
   "metadata": {
    "collapsed": false
   },
   "outputs": [],
   "source": [
    "def longest_value(csv_file, header=True):\n",
    "    '''\n",
    "    Applies get_col_set function to all columns of csv file\n",
    "    and returns dataframe of maximum value length for each column\n",
    "    \n",
    "    csv_file: csv file name as string\n",
    "    header:  True or False if file has header row (default is True)    \n",
    "    '''\n",
    "    max_length = pd.DataFrame(columns=['max_length'], index=header_row)\n",
    "    for i, value in enumerate(header_row):\n",
    "        max_length.loc[value, 'max_length'] = max(len(value) for value in get_col_set(csv_file, i, header=header))\n",
    "    return max_length.reset_index().rename(columns={'index': 'column'})"
   ]
  },
  {
   "cell_type": "markdown",
   "metadata": {},
   "source": [
    "#### Checking the Number of Unique Values in Each Column"
   ]
  },
  {
   "cell_type": "code",
   "execution_count": 9,
   "metadata": {
    "collapsed": false
   },
   "outputs": [
    {
     "data": {
      "text/html": [
       "<div>\n",
       "<style scoped>\n",
       "    .dataframe tbody tr th:only-of-type {\n",
       "        vertical-align: middle;\n",
       "    }\n",
       "\n",
       "    .dataframe tbody tr th {\n",
       "        vertical-align: top;\n",
       "    }\n",
       "\n",
       "    .dataframe thead th {\n",
       "        text-align: right;\n",
       "    }\n",
       "</style>\n",
       "<table border=\"1\" class=\"dataframe\">\n",
       "  <thead>\n",
       "    <tr style=\"text-align: right;\">\n",
       "      <th></th>\n",
       "      <th>column</th>\n",
       "      <th>num_unique</th>\n",
       "    </tr>\n",
       "  </thead>\n",
       "  <tbody>\n",
       "    <tr>\n",
       "      <th>0</th>\n",
       "      <td>incident_number</td>\n",
       "      <td>298329</td>\n",
       "    </tr>\n",
       "    <tr>\n",
       "      <th>1</th>\n",
       "      <td>offense_code</td>\n",
       "      <td>219</td>\n",
       "    </tr>\n",
       "    <tr>\n",
       "      <th>2</th>\n",
       "      <td>description</td>\n",
       "      <td>239</td>\n",
       "    </tr>\n",
       "    <tr>\n",
       "      <th>3</th>\n",
       "      <td>date</td>\n",
       "      <td>1177</td>\n",
       "    </tr>\n",
       "    <tr>\n",
       "      <th>4</th>\n",
       "      <td>day_of_the_week</td>\n",
       "      <td>7</td>\n",
       "    </tr>\n",
       "    <tr>\n",
       "      <th>5</th>\n",
       "      <td>lat</td>\n",
       "      <td>18177</td>\n",
       "    </tr>\n",
       "    <tr>\n",
       "      <th>6</th>\n",
       "      <td>long</td>\n",
       "      <td>18177</td>\n",
       "    </tr>\n",
       "  </tbody>\n",
       "</table>\n",
       "</div>"
      ],
      "text/plain": [
       "            column  num_unique\n",
       "0  incident_number      298329\n",
       "1     offense_code         219\n",
       "2      description         239\n",
       "3             date        1177\n",
       "4  day_of_the_week           7\n",
       "5              lat       18177\n",
       "6             long       18177"
      ]
     },
     "execution_count": 9,
     "metadata": {},
     "output_type": "execute_result"
    }
   ],
   "source": [
    "get_num_unique('boston.csv')"
   ]
  },
  {
   "cell_type": "markdown",
   "metadata": {},
   "source": [
    "#### Checking the Maximum Value Length for Each Column"
   ]
  },
  {
   "cell_type": "code",
   "execution_count": 10,
   "metadata": {
    "collapsed": false
   },
   "outputs": [
    {
     "data": {
      "text/html": [
       "<div>\n",
       "<style scoped>\n",
       "    .dataframe tbody tr th:only-of-type {\n",
       "        vertical-align: middle;\n",
       "    }\n",
       "\n",
       "    .dataframe tbody tr th {\n",
       "        vertical-align: top;\n",
       "    }\n",
       "\n",
       "    .dataframe thead th {\n",
       "        text-align: right;\n",
       "    }\n",
       "</style>\n",
       "<table border=\"1\" class=\"dataframe\">\n",
       "  <thead>\n",
       "    <tr style=\"text-align: right;\">\n",
       "      <th></th>\n",
       "      <th>column</th>\n",
       "      <th>max_length</th>\n",
       "    </tr>\n",
       "  </thead>\n",
       "  <tbody>\n",
       "    <tr>\n",
       "      <th>0</th>\n",
       "      <td>incident_number</td>\n",
       "      <td>6</td>\n",
       "    </tr>\n",
       "    <tr>\n",
       "      <th>1</th>\n",
       "      <td>offense_code</td>\n",
       "      <td>4</td>\n",
       "    </tr>\n",
       "    <tr>\n",
       "      <th>2</th>\n",
       "      <td>description</td>\n",
       "      <td>58</td>\n",
       "    </tr>\n",
       "    <tr>\n",
       "      <th>3</th>\n",
       "      <td>date</td>\n",
       "      <td>10</td>\n",
       "    </tr>\n",
       "    <tr>\n",
       "      <th>4</th>\n",
       "      <td>day_of_the_week</td>\n",
       "      <td>9</td>\n",
       "    </tr>\n",
       "    <tr>\n",
       "      <th>5</th>\n",
       "      <td>lat</td>\n",
       "      <td>11</td>\n",
       "    </tr>\n",
       "    <tr>\n",
       "      <th>6</th>\n",
       "      <td>long</td>\n",
       "      <td>12</td>\n",
       "    </tr>\n",
       "  </tbody>\n",
       "</table>\n",
       "</div>"
      ],
      "text/plain": [
       "            column  max_length\n",
       "0  incident_number           6\n",
       "1     offense_code           4\n",
       "2      description          58\n",
       "3             date          10\n",
       "4  day_of_the_week           9\n",
       "5              lat          11\n",
       "6             long          12"
      ]
     },
     "execution_count": 10,
     "metadata": {},
     "output_type": "execute_result"
    }
   ],
   "source": [
    "longest_value('boston.csv')"
   ]
  },
  {
   "cell_type": "markdown",
   "metadata": {},
   "source": [
    "#### Observations:\n",
    "- We have 298,329 incidents in our dataset, that occurred on 1177 unique dates, with each weekday represented.\n",
    "- The unique location information indicates that specific latitude and longitude information refers to a larger area, that mutliple events occurred at the same location, or that location data is missing for some entries.\n",
    "- In our database table, we will typecast the columns as follows:\n",
    "    - integer/int4: `incident_number`\n",
    "    - smallint/int2: `offense_code`\n",
    "    - enumerated: `day_of_the_week`\n",
    "    - date: `date`\n",
    "    - double precision/float8: `lat` and `long`\n",
    "    - varchar(n): `description`"
   ]
  },
  {
   "cell_type": "markdown",
   "metadata": {},
   "source": [
    "#### Creating Enumerated Types for `day_of_the_week` and `offense_code`"
   ]
  },
  {
   "cell_type": "code",
   "execution_count": 11,
   "metadata": {
    "collapsed": false
   },
   "outputs": [
    {
     "data": {
      "text/plain": [
       "{'Friday', 'Monday', 'Saturday', 'Sunday', 'Thursday', 'Tuesday', 'Wednesday'}"
      ]
     },
     "execution_count": 11,
     "metadata": {},
     "output_type": "execute_result"
    }
   ],
   "source": [
    "get_col_set('boston.csv', 4)"
   ]
  },
  {
   "cell_type": "code",
   "execution_count": 12,
   "metadata": {
    "collapsed": false
   },
   "outputs": [],
   "source": [
    "query = \"CREATE TYPE enum_weekday AS ENUM ('Sunday', 'Monday', 'Tuesday', 'Wednesday', 'Thursday', 'Friday', 'Saturday');\"\n",
    "cur.execute(query)"
   ]
  },
  {
   "cell_type": "markdown",
   "metadata": {},
   "source": [
    "### Creating Table `crimes.boston_crimes`"
   ]
  },
  {
   "cell_type": "code",
   "execution_count": 13,
   "metadata": {
    "collapsed": false
   },
   "outputs": [],
   "source": [
    "query = '''\n",
    "CREATE TABLE crimes.boston_crimes (\n",
    "    incident_number INT4 PRIMARY KEY,\n",
    "    offense_code INT2,\n",
    "    description VARCHAR(80),\n",
    "    date DATE,\n",
    "    day_of_the_week enum_weekday,\n",
    "    lat FLOAT8,\n",
    "    long FLOAT8\n",
    "    );\n",
    "'''\n",
    "cur.execute(query)"
   ]
  },
  {
   "cell_type": "markdown",
   "metadata": {},
   "source": [
    "#### Verifying Table Creation"
   ]
  },
  {
   "cell_type": "code",
   "execution_count": 14,
   "metadata": {
    "collapsed": false
   },
   "outputs": [
    {
     "data": {
      "text/plain": [
       "(Column(name='incident_number', type_code=23, display_size=None, internal_size=4, precision=None, scale=None, null_ok=None),\n",
       " Column(name='offense_code', type_code=21, display_size=None, internal_size=2, precision=None, scale=None, null_ok=None),\n",
       " Column(name='description', type_code=1043, display_size=None, internal_size=80, precision=None, scale=None, null_ok=None),\n",
       " Column(name='date', type_code=1082, display_size=None, internal_size=4, precision=None, scale=None, null_ok=None),\n",
       " Column(name='day_of_the_week', type_code=16627, display_size=None, internal_size=4, precision=None, scale=None, null_ok=None),\n",
       " Column(name='lat', type_code=701, display_size=None, internal_size=8, precision=None, scale=None, null_ok=None),\n",
       " Column(name='long', type_code=701, display_size=None, internal_size=8, precision=None, scale=None, null_ok=None))"
      ]
     },
     "execution_count": 14,
     "metadata": {},
     "output_type": "execute_result"
    }
   ],
   "source": [
    "query = 'SELECT * FROM crimes.boston_crimes LIMIT 0;'\n",
    "cur.execute(query)\n",
    "cur.description"
   ]
  },
  {
   "cell_type": "markdown",
   "metadata": {},
   "source": [
    "#### Example of Checking `type_code`"
   ]
  },
  {
   "cell_type": "code",
   "execution_count": 15,
   "metadata": {
    "collapsed": false
   },
   "outputs": [
    {
     "data": {
      "text/plain": [
       "'varchar'"
      ]
     },
     "execution_count": 15,
     "metadata": {},
     "output_type": "execute_result"
    }
   ],
   "source": [
    "query = 'SELECT typname FROM pg_catalog.pg_type WHERE oid = 1043;'\n",
    "cur.execute(query)\n",
    "cur.fetchone()[0]"
   ]
  },
  {
   "cell_type": "markdown",
   "metadata": {},
   "source": [
    "## Loading Data from csv into PostgreSQL Table"
   ]
  },
  {
   "cell_type": "code",
   "execution_count": 16,
   "metadata": {
    "collapsed": true
   },
   "outputs": [],
   "source": [
    "with open('boston.csv', 'r') as f:\n",
    "    cur.copy_expert(\"COPY crimes.boston_crimes FROM STDIN WITH CSV HEADER\", f)"
   ]
  },
  {
   "cell_type": "markdown",
   "metadata": {},
   "source": [
    "## Creating User Groups"
   ]
  },
  {
   "cell_type": "markdown",
   "metadata": {},
   "source": [
    "#### Revoking `public` Privileges"
   ]
  },
  {
   "cell_type": "code",
   "execution_count": 17,
   "metadata": {
    "collapsed": false
   },
   "outputs": [],
   "source": [
    "query = \"REVOKE ALL ON SCHEMA public FROM public;\"\n",
    "cur.execute(query)\n",
    "\n",
    "query = \"REVOKE ALL ON DATABASE crime_db FROM public;\"\n",
    "cur.execute(query)"
   ]
  },
  {
   "cell_type": "markdown",
   "metadata": {},
   "source": [
    "#### Creating `readonly` and `readwrite` User Groups"
   ]
  },
  {
   "cell_type": "code",
   "execution_count": 18,
   "metadata": {
    "collapsed": false
   },
   "outputs": [],
   "source": [
    "query = \"CREATE GROUP readonly NOLOGIN;\"\n",
    "cur.execute(query)\n",
    "\n",
    "query = \"CREATE GROUP readwrite NOLOGIN;\"\n",
    "cur.execute(query)"
   ]
  },
  {
   "cell_type": "code",
   "execution_count": 19,
   "metadata": {
    "collapsed": false
   },
   "outputs": [],
   "source": [
    "query = \"GRANT CONNECT ON DATABASE crime_db TO readonly, readwrite;\"\n",
    "cur.execute(query)\n",
    "\n",
    "query = 'GRANT USAGE ON SCHEMA crimes TO readonly, readwrite;'\n",
    "cur.execute(query)"
   ]
  },
  {
   "cell_type": "code",
   "execution_count": 20,
   "metadata": {
    "collapsed": false
   },
   "outputs": [],
   "source": [
    "query = \"GRANT SELECT ON ALL TABLES IN SCHEMA crimes TO readonly;\"\n",
    "cur.execute(query)\n",
    "\n",
    "query = \"GRANT SELECT, INSERT, DELETE, UPDATE ON ALL TABLES IN SCHEMA crimes TO readwrite;\"\n",
    "cur.execute(query)"
   ]
  },
  {
   "cell_type": "markdown",
   "metadata": {},
   "source": [
    "## Creating Individual Users"
   ]
  },
  {
   "cell_type": "code",
   "execution_count": 21,
   "metadata": {
    "collapsed": false
   },
   "outputs": [],
   "source": [
    "query = \"CREATE USER data_analyst WITH PASSWORD 'secret1';\"\n",
    "cur.execute(query)\n",
    "\n",
    "query = \"GRANT readonly TO data_analyst;\"\n",
    "cur.execute(query)"
   ]
  },
  {
   "cell_type": "code",
   "execution_count": 22,
   "metadata": {
    "collapsed": false
   },
   "outputs": [],
   "source": [
    "query = \"CREATE USER data_scientist WITH PASSWORD 'secret2';\"\n",
    "cur.execute(query)\n",
    "\n",
    "query = \"GRANT readwrite TO data_scientist;\"\n",
    "cur.execute(query)"
   ]
  },
  {
   "cell_type": "markdown",
   "metadata": {},
   "source": [
    "## Committing SQL Transaction"
   ]
  },
  {
   "cell_type": "code",
   "execution_count": 23,
   "metadata": {
    "collapsed": true
   },
   "outputs": [],
   "source": [
    "conn.commit()"
   ]
  },
  {
   "cell_type": "markdown",
   "metadata": {},
   "source": [
    "## Verifying Table Priveleges"
   ]
  },
  {
   "cell_type": "code",
   "execution_count": 24,
   "metadata": {
    "collapsed": false
   },
   "outputs": [
    {
     "data": {
      "text/plain": [
       "[('readonly', 'SELECT'),\n",
       " ('readwrite', 'INSERT'),\n",
       " ('readwrite', 'SELECT'),\n",
       " ('readwrite', 'UPDATE'),\n",
       " ('readwrite', 'DELETE')]"
      ]
     },
     "execution_count": 24,
     "metadata": {},
     "output_type": "execute_result"
    }
   ],
   "source": [
    "query = '''\n",
    "SELECT grantee, privilege_type\n",
    "  FROM information_schema.table_privileges\n",
    " WHERE grantee IN ('readonly', 'readwrite');\n",
    " '''\n",
    "cur.execute(query)\n",
    "cur.fetchall()"
   ]
  },
  {
   "cell_type": "markdown",
   "metadata": {},
   "source": [
    "## Test Queries"
   ]
  },
  {
   "cell_type": "code",
   "execution_count": 25,
   "metadata": {
    "collapsed": false
   },
   "outputs": [
    {
     "data": {
      "text/plain": [
       "[(1,\n",
       "  619,\n",
       "  'LARCENY ALL OTHERS',\n",
       "  datetime.date(2018, 9, 2),\n",
       "  'Sunday',\n",
       "  42.35779134,\n",
       "  -71.13937053),\n",
       " (2,\n",
       "  1402,\n",
       "  'VANDALISM',\n",
       "  datetime.date(2018, 8, 21),\n",
       "  'Tuesday',\n",
       "  42.30682138,\n",
       "  -71.06030035),\n",
       " (3,\n",
       "  3410,\n",
       "  'TOWED MOTOR VEHICLE',\n",
       "  datetime.date(2018, 9, 3),\n",
       "  'Monday',\n",
       "  42.34658879,\n",
       "  -71.07242943),\n",
       " (4,\n",
       "  3114,\n",
       "  'INVESTIGATE PROPERTY',\n",
       "  datetime.date(2018, 9, 3),\n",
       "  'Monday',\n",
       "  42.33418175,\n",
       "  -71.07866441),\n",
       " (5,\n",
       "  3114,\n",
       "  'INVESTIGATE PROPERTY',\n",
       "  datetime.date(2018, 9, 3),\n",
       "  'Monday',\n",
       "  42.27536542,\n",
       "  -71.09036101)]"
      ]
     },
     "execution_count": 25,
     "metadata": {},
     "output_type": "execute_result"
    }
   ],
   "source": [
    "query = 'SELECT * FROM crimes.boston_crimes LIMIT 5;'\n",
    "cur.execute(query)\n",
    "cur.fetchall()"
   ]
  },
  {
   "cell_type": "code",
   "execution_count": 26,
   "metadata": {
    "collapsed": false
   },
   "outputs": [
    {
     "data": {
      "text/plain": [
       "298329"
      ]
     },
     "execution_count": 26,
     "metadata": {},
     "output_type": "execute_result"
    }
   ],
   "source": [
    "query = \"SELECT COUNT(*) FROM crimes.boston_crimes;\"\n",
    "cur.execute(query)\n",
    "cur.fetchone()[0]"
   ]
  },
  {
   "cell_type": "markdown",
   "metadata": {},
   "source": [
    "#### Observations:\n",
    "- The content of the first few rows is consistent with what we expected and the total number of rows matches that of the original csv file.\n",
    "- We can commit and close our connection."
   ]
  },
  {
   "cell_type": "code",
   "execution_count": 27,
   "metadata": {
    "collapsed": true
   },
   "outputs": [],
   "source": [
    "conn.commit()\n",
    "conn.close()"
   ]
  },
  {
   "cell_type": "markdown",
   "metadata": {},
   "source": [
    "## Appendix:  Code Cells for Resetting Notebook"
   ]
  },
  {
   "cell_type": "code",
   "execution_count": 28,
   "metadata": {
    "collapsed": true
   },
   "outputs": [],
   "source": [
    "# conn.rollback()\n",
    "# conn.close()"
   ]
  },
  {
   "cell_type": "code",
   "execution_count": 29,
   "metadata": {
    "collapsed": false
   },
   "outputs": [],
   "source": [
    "# conn = psycopg2.connect(dbname='dq', user='dq')\n",
    "# conn.autocommit=True\n",
    "# cur = conn.cursor()\n",
    "# cur.execute('DROP DATABASE crime_db;')"
   ]
  },
  {
   "cell_type": "code",
   "execution_count": 30,
   "metadata": {
    "collapsed": false
   },
   "outputs": [],
   "source": [
    "# conn = psycopg2.connect(dbname = 'dq', user='dq')\n",
    "# cur = conn.cursor()"
   ]
  },
  {
   "cell_type": "code",
   "execution_count": 31,
   "metadata": {
    "collapsed": true
   },
   "outputs": [],
   "source": [
    "# cur.execute('DROP ROLE readonly;')"
   ]
  },
  {
   "cell_type": "code",
   "execution_count": 32,
   "metadata": {
    "collapsed": false
   },
   "outputs": [],
   "source": [
    "# cur.execute('DROP ROLE readwrite;')"
   ]
  },
  {
   "cell_type": "code",
   "execution_count": 33,
   "metadata": {
    "collapsed": false
   },
   "outputs": [],
   "source": [
    "# cur.execute('DROP ROLE data_scientist;')"
   ]
  },
  {
   "cell_type": "code",
   "execution_count": 34,
   "metadata": {
    "collapsed": true
   },
   "outputs": [],
   "source": [
    "# cur.execute('DROP ROLE data_analyst;')"
   ]
  },
  {
   "cell_type": "code",
   "execution_count": 35,
   "metadata": {
    "collapsed": false
   },
   "outputs": [],
   "source": [
    "# cur.execute('SELECT * FROM pg_group;')\n",
    "# cur.fetchall()"
   ]
  },
  {
   "cell_type": "code",
   "execution_count": 36,
   "metadata": {
    "collapsed": false
   },
   "outputs": [],
   "source": [
    "# cur.execute('SELECT * FROM pg_user;')\n",
    "# cur.fetchall()"
   ]
  },
  {
   "cell_type": "code",
   "execution_count": 37,
   "metadata": {
    "collapsed": true
   },
   "outputs": [],
   "source": [
    "# conn.commit()\n",
    "# conn.close()"
   ]
  }
 ],
 "metadata": {
  "kernelspec": {
   "display_name": "Python 3",
   "language": "python",
   "name": "python3"
  },
  "language_info": {
   "codemirror_mode": {
    "name": "ipython",
    "version": 3
   },
   "file_extension": ".py",
   "mimetype": "text/x-python",
   "name": "python",
   "nbconvert_exporter": "python",
   "pygments_lexer": "ipython3",
   "version": "3.4.3"
  }
 },
 "nbformat": 4,
 "nbformat_minor": 2
}
